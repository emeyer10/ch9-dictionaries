{
 "cells": [
  {
   "cell_type": "markdown",
   "metadata": {},
   "source": [
    "# Exercise 4\n",
    "Add the specified code for each code cell, running the cells _in order_. <small>(This exercise was adapted from [Erle Robotics S.L.](https://www.gitbook.com/@erlerobotics))</small>"
   ]
  },
  {
   "cell_type": "markdown",
   "metadata": {},
   "source": [
    "Create a _list_ **`students`** that contains dictionaries, each representing a student. A student has a `name`, as well as _lists_ of scores for each of `homework`, `quizzes`, and `tests`. Your dictionary should contain the following dictionaries for the following students:\n",
    "- Lloyd, who earned the following scores:\n",
    "    - Homework: 90, 97, 75, 92\n",
    "    - Quizzes: 88, 40, 94\n",
    "    - Exams: 75, 90\n",
    "- Alice, who earned the following scores:\n",
    "    - Homework: 100, 92, 98, 100\n",
    "    - Quizzes: 82, 83, 91\n",
    "    - Exams: 89, 97\n",
    "- Tyler, who earned the following scores:\n",
    "    - Homework: 0, 87, 75, 22\n",
    "    - Quizzes: 0, 75, 78\n",
    "    - Exams: 100, 100\n",
    "\n",
    "Print out the list after you create it."
   ]
  },
  {
   "cell_type": "code",
   "execution_count": 2,
   "metadata": {},
   "outputs": [
    {
     "name": "stdout",
     "output_type": "stream",
     "text": [
      "[{'name': 'Lloyd', 'homework': [90, 97, 75, 92], 'quizzes': [88, 40, 94], 'exams': [75, 90]}, {'name': 'Alice', 'homework': [100, 92, 98, 100], 'quizzes': [82, 83, 91], 'exams': [89, 97]}, {'name': 'Tyler', 'homework': [0, 87, 75, 22], 'quizzes': [0, 75, 78], 'exams': [100, 100]}]\n"
     ]
    }
   ],
   "source": [
    "students = [\n",
    "    {'name': 'Lloyd', 'homework': [90, 97, 75, 92], 'quizzes': [88, 40, 94], 'exams': [75, 90]},\n",
    "    {'name': 'Alice', 'homework': [100, 92, 98, 100], 'quizzes': [82, 83, 91], 'exams': [89, 97]},\n",
    "    {'name': 'Tyler', 'homework': [0, 87, 75, 22], 'quizzes': [0, 75, 78], 'exams': [100, 100]}\n",
    "]\n",
    "print(students)"
   ]
  },
  {
   "cell_type": "markdown",
   "metadata": {},
   "source": [
    "Define a function **`weighted_average()`** that takes in a dictionary representing a student (as above), as well as 3 values between 0 and 1 representing the amount of weight that each of homework (default 40%), quizzes (default 40%), and tests (default 20%) receive in determing the final grade. The function should then calculate and return the overall score (between 0 and 100) based on these weights.\n",
    "- Hint: use the `sum()` function to easily sum up the scores for each category."
   ]
  },
  {
   "cell_type": "code",
   "execution_count": 7,
   "metadata": {},
   "outputs": [
    {
     "ename": "TypeError",
     "evalue": "unsupported operand type(s) for /: 'list' and 'float'",
     "output_type": "error",
     "traceback": [
      "\u001b[1;31m---------------------------------------------------------------------------\u001b[0m",
      "\u001b[1;31mTypeError\u001b[0m                                 Traceback (most recent call last)",
      "\u001b[1;32m<ipython-input-7-3ddd37b88219>\u001b[0m in \u001b[0;36m<module>\u001b[1;34m\u001b[0m\n\u001b[1;32m----> 1\u001b[1;33m \u001b[0msum\u001b[0m\u001b[1;33m(\u001b[0m\u001b[0mstudents\u001b[0m\u001b[1;33m[\u001b[0m\u001b[1;36m0\u001b[0m\u001b[1;33m]\u001b[0m\u001b[1;33m[\u001b[0m\u001b[1;34m'exams'\u001b[0m\u001b[1;33m]\u001b[0m\u001b[1;33m/\u001b[0m\u001b[1;33m(\u001b[0m\u001b[1;36m2\u001b[0m\u001b[1;33m/\u001b[0m\u001b[1;36m5\u001b[0m\u001b[1;33m)\u001b[0m\u001b[1;33m)\u001b[0m\u001b[1;33m\u001b[0m\u001b[1;33m\u001b[0m\u001b[0m\n\u001b[0m",
      "\u001b[1;31mTypeError\u001b[0m: unsupported operand type(s) for /: 'list' and 'float'"
     ]
    }
   ],
   "source": [
    "sum(students[0]['exams']/"
   ]
  },
  {
   "cell_type": "code",
   "execution_count": null,
   "metadata": {},
   "outputs": [],
   "source": [
    "def weighted_average(name, homework, quizzes, exams):\n",
    "    name = students[i]\n",
    "    homework = sum(students[i]['homework'])*.4\n",
    "    quizzes = sum(students[i]['quizzes']*.4)\n",
    "    exams = sum(students[i]['exams']*.2)\n",
    "    "
   ]
  },
  {
   "cell_type": "markdown",
   "metadata": {},
   "source": [
    "Create a variable **`anonymous_scores`** that is a list of the average scores of all the students in the class. Homework gets 10% weight, quizzes get 30% weight, and exams get 60% weight (it's not a well-designed course). Output the variable once done."
   ]
  },
  {
   "cell_type": "code",
   "execution_count": null,
   "metadata": {},
   "outputs": [],
   "source": []
  },
  {
   "cell_type": "markdown",
   "metadata": {},
   "source": [
    "Define a function **`get_letter_grade()`** that takes in a score and returns a \"letter grade\" associated with that score based on the following criteria:\n",
    "- 90-100 is an A\n",
    "- 80-90 is a B\n",
    "- 70-80 is a C\n",
    "- 60-70 is a D\n",
    "- 0-60 is an F"
   ]
  },
  {
   "cell_type": "code",
   "execution_count": null,
   "metadata": {},
   "outputs": [],
   "source": []
  },
  {
   "cell_type": "markdown",
   "metadata": {},
   "source": [
    "Assign a new key `grade` to each student in the `students` list that is the final letter grade for their work (using the same weights as you used for the anonymous scores)."
   ]
  },
  {
   "cell_type": "code",
   "execution_count": null,
   "metadata": {},
   "outputs": [],
   "source": []
  },
  {
   "cell_type": "markdown",
   "metadata": {},
   "source": [
    "Print the class's average letter grade."
   ]
  },
  {
   "cell_type": "code",
   "execution_count": null,
   "metadata": {},
   "outputs": [],
   "source": []
  }
 ],
 "metadata": {
  "kernelspec": {
   "display_name": "Python 3",
   "language": "python",
   "name": "python3"
  },
  "language_info": {
   "codemirror_mode": {
    "name": "ipython",
    "version": 3
   },
   "file_extension": ".py",
   "mimetype": "text/x-python",
   "name": "python",
   "nbconvert_exporter": "python",
   "pygments_lexer": "ipython3",
   "version": "3.7.3"
  },
  "toc": {
   "colors": {
    "hover_highlight": "#DAA520",
    "running_highlight": "#FF0000",
    "selected_highlight": "#FFD700"
   },
   "moveMenuLeft": true,
   "nav_menu": {
    "height": "30px",
    "width": "252px"
   },
   "navigate_menu": true,
   "number_sections": true,
   "sideBar": true,
   "threshold": 4,
   "toc_cell": false,
   "toc_section_display": "block",
   "toc_window_display": false,
   "widenNotebook": false
  }
 },
 "nbformat": 4,
 "nbformat_minor": 2
}
